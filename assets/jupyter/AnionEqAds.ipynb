{
 "cells": [
  {
   "cell_type": "markdown",
   "id": "d922ea99",
   "metadata": {},
   "source": [
    "# Equilibrium Adsorption Potential of Anion Adsorption\n",
    "## Author: Andrew Jark-Wah Wong\n",
    "## July 9th 2024\n",
    "\n",
    "The goal of this simple notebook is to visually show how varying the equilibrium adsorption potential introduces new potential regimes where anions can adsorb (the green)."
   ]
  },
  {
   "cell_type": "code",
   "execution_count": 2,
   "id": "52f77f37",
   "metadata": {},
   "outputs": [],
   "source": [
    "import numpy as np\n",
    "import matplotlib.pyplot as plt\n",
    "import ipywidgets as widgets\n",
    "from ipywidgets import interact"
   ]
  },
  {
   "cell_type": "code",
   "execution_count": 21,
   "id": "410a3ab2",
   "metadata": {},
   "outputs": [
    {
     "data": {
      "application/vnd.jupyter.widget-view+json": {
       "model_id": "d564232895054fd68430357219abe8ed",
       "version_major": 2,
       "version_minor": 0
      },
      "text/plain": [
       "interactive(children=(FloatSlider(value=0.0, description='U$^0$', max=2.0, min=-2.0), Output()), _dom_classes=…"
      ]
     },
     "metadata": {},
     "output_type": "display_data"
    },
    {
     "data": {
      "text/plain": [
       "<function __main__.create_number_line(threshold)>"
      ]
     },
     "execution_count": 21,
     "metadata": {},
     "output_type": "execute_result"
    }
   ],
   "source": [
    "# Function to create the number line plot with centered text\n",
    "def create_number_line(threshold):\n",
    "    x = np.linspace(-2, 2, 400)\n",
    "\n",
    "    fig, ax = plt.subplots(figsize=(10, 1))\n",
    "\n",
    "    # Shading areas based on the threshold\n",
    "    ax.axvspan(-2, threshold, facecolor='red', alpha=0.5)\n",
    "    ax.axvspan(threshold, 2, facecolor='green', alpha=0.5)\n",
    "\n",
    "    ax.plot(x, np.zeros_like(x), 'k-')  # Plot the number line\n",
    "    ax.axvline(threshold, color='black', linestyle='--')\n",
    "    ax.set_yticks([])\n",
    "    ax.set_xlim(-2, 2)\n",
    "\n",
    "    ax.set_xlabel('Applied Potential (V-SHE)')\n",
    "    \n",
    "    # Adding centered text\n",
    "    red_center = (-2 + threshold) / 2\n",
    "    green_center = (2 + threshold) / 2\n",
    "    \n",
    "    ax.text(red_center, 0.075, 'Anion Adsorption is Unlikely', ha='center', color='red', weight='bold')\n",
    "    ax.text(green_center, 0.075, 'Anion Adsorption is Likely', ha='center', color='green', weight='bold')\n",
    "    ax.text(threshold, 0.025, f'U$^0$={threshold} V-SHE', ha='center', color='black', weight='bold',bbox=dict(facecolor='white', edgecolor='white', pad=.5))\n",
    "\n",
    "    plt.show()\n",
    "\n",
    "# Interactive widget to set the threshold value\n",
    "threshold_slider = widgets.FloatSlider(value=0, min=-2, max=2, step=0.1, description='U$^0$')\n",
    "\n",
    "# Using interact to update the plot based on the slider value\n",
    "interact(create_number_line, threshold=threshold_slider)"
   ]
  },
  {
   "cell_type": "code",
   "execution_count": null,
   "id": "f3311b27",
   "metadata": {},
   "outputs": [],
   "source": []
  }
 ],
 "metadata": {
  "kernelspec": {
   "display_name": "Python 3 (ipykernel)",
   "language": "python",
   "name": "python3"
  },
  "language_info": {
   "codemirror_mode": {
    "name": "ipython",
    "version": 3
   },
   "file_extension": ".py",
   "mimetype": "text/x-python",
   "name": "python",
   "nbconvert_exporter": "python",
   "pygments_lexer": "ipython3",
   "version": "3.10.9"
  }
 },
 "nbformat": 4,
 "nbformat_minor": 5
}
